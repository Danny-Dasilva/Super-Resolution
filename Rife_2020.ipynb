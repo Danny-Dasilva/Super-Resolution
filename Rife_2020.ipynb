{
 "cells": [
  {
   "cell_type": "code",
   "execution_count": 1,
   "metadata": {
    "colab": {
     "base_uri": "https://localhost:8080/"
    },
    "id": "FypCcZkNNt2p",
    "outputId": "1e86b4bb-88c0-4700-e46a-181658b9320c"
   },
   "outputs": [
    {
     "name": "stdout",
     "output_type": "stream",
     "text": [
      "Cloning into 'arXiv2020-RIFE'...\n",
      "remote: Enumerating objects: 1850, done.\u001b[K\n",
      "remote: Counting objects: 100% (25/25), done.\u001b[K\n",
      "remote: Compressing objects: 100% (25/25), done.\u001b[K\n",
      "remote: Total 1850 (delta 10), reused 4 (delta 0), pack-reused 1825\u001b[K\n",
      "Receiving objects: 100% (1850/1850), 4.07 MiB | 13.33 MiB/s, done.\n",
      "Resolving deltas: 100% (1163/1163), done.\n"
     ]
    }
   ],
   "source": [
    "!git clone https://github.com/hzwer/arXiv2020-RIFE"
   ]
  },
  {
   "cell_type": "code",
   "execution_count": 5,
   "metadata": {
    "colab": {
     "base_uri": "https://localhost:8080/"
    },
    "id": "1wysVHxoN54f",
    "outputId": "d09d3713-3b1f-47d7-b0f9-b8d680d41080"
   },
   "outputs": [
    {
     "name": "stdout",
     "output_type": "stream",
     "text": [
      "/home/danny/Documents/Notebooks/arXiv2020-RIFE/train_log\n",
      "/home/danny/.pyenv/versions/3.9.13/lib/python3.9/site-packages/gdown/cli.py:127: FutureWarning: Option `--id` was deprecated in version 4.3.1 and will be removed in 5.0. You don't need to pass it anymore to use a file ID.\n",
      "  warnings.warn(\n",
      "Downloading...\n",
      "From: https://drive.google.com/uc?id=1APIzVeI-4ZZCEuIRE1m6WYfSCaOsi_7_\n",
      "To: /home/danny/Documents/Notebooks/arXiv2020-RIFE/train_log/RIFE_trained_model_v3.6.zip\n",
      "100%|██████████████████████████████████████| 11.3M/11.3M [00:00<00:00, 22.0MB/s]\n",
      "\n",
      "7-Zip [64] 16.02 : Copyright (c) 1999-2016 Igor Pavlov : 2016-05-21\n",
      "p7zip Version 16.02 (locale=en_US.UTF-8,Utf16=on,HugeFiles=on,64 bits,24 CPUs AMD Ryzen 9 5900X 12-Core Processor             (A20F10),ASM,AES-NI)\n",
      "\n",
      "Scanning the drive for archives:\n",
      "  0M Sca        1 file, 11332064 bytes (11 MiB)\n",
      "\n",
      "Extracting archive: RIFE_trained_model_v3.6.zip\n",
      "--\n",
      "Path = RIFE_trained_model_v3.6.zip\n",
      "Type = zip\n",
      "Physical Size = 11332064\n",
      "\n",
      "    Everything is Ok\n",
      "\n",
      "Folders: 4\n",
      "Files: 10\n",
      "Size:       12208819\n",
      "Compressed: 11332064\n"
     ]
    }
   ],
   "source": [
    "!mkdir ./arXiv2020-RIFE/train_log\n",
    "%cd ./arXiv2020-RIFE/train_log\n",
    "!gdown --id 1APIzVeI-4ZZCEuIRE1m6WYfSCaOsi_7_\n",
    "!7z e RIFE_trained_model_v3.6.zip"
   ]
  },
  {
   "cell_type": "code",
   "execution_count": 1,
   "metadata": {
    "colab": {
     "base_uri": "https://localhost:8080/"
    },
    "id": "AhbHfRBJRAUt",
    "outputId": "75be93a2-3231-4d8e-8c62-65f31bbd4e65"
   },
   "outputs": [
    {
     "name": "stdout",
     "output_type": "stream",
     "text": [
      "/home/danny/Documents/Notebooks/arXiv2020-RIFE\n",
      "/home/danny/.pyenv/versions/3.9.13/lib/python3.9/site-packages/gdown/cli.py:127: FutureWarning: Option `--id` was deprecated in version 4.3.1 and will be removed in 5.0. You don't need to pass it anymore to use a file ID.\n",
      "  warnings.warn(\n",
      "Downloading...\n",
      "From: https://drive.google.com/uc?id=1i3xlKb7ax7Y70khcTcuePi6E7crO_dFc\n",
      "To: /home/danny/Documents/Notebooks/arXiv2020-RIFE/demo.mp4\n",
      "100%|██████████████████████████████████████| 54.6M/54.6M [00:03<00:00, 14.1MB/s]\n",
      "Requirement already satisfied: numpy>=1.16 in /home/danny/.pyenv/versions/3.9.13/lib/python3.9/site-packages (from -r requirements.txt (line 1)) (1.20.3)\n",
      "Requirement already satisfied: tqdm>=4.35.0 in /home/danny/.pyenv/versions/3.9.13/lib/python3.9/site-packages (from -r requirements.txt (line 2)) (4.64.0)\n",
      "Requirement already satisfied: sk-video>=1.1.10 in /home/danny/.pyenv/versions/3.9.13/lib/python3.9/site-packages (from -r requirements.txt (line 3)) (1.1.10)\n",
      "Requirement already satisfied: opencv-python>=4.1.2 in /home/danny/.pyenv/versions/3.9.13/lib/python3.9/site-packages (from -r requirements.txt (line 4)) (4.6.0.66)\n",
      "Requirement already satisfied: moviepy>=1.0.3 in /home/danny/.pyenv/versions/3.9.13/lib/python3.9/site-packages (from -r requirements.txt (line 5)) (1.0.3)\n",
      "Requirement already satisfied: scipy in /home/danny/.local/lib/python3.9/site-packages (from sk-video>=1.1.10->-r requirements.txt (line 3)) (1.8.0)\n",
      "Requirement already satisfied: imageio-ffmpeg>=0.2.0 in /home/danny/.pyenv/versions/3.9.13/lib/python3.9/site-packages (from moviepy>=1.0.3->-r requirements.txt (line 5)) (0.4.7)\n",
      "Requirement already satisfied: proglog<=1.0.0 in /home/danny/.pyenv/versions/3.9.13/lib/python3.9/site-packages (from moviepy>=1.0.3->-r requirements.txt (line 5)) (0.1.10)\n",
      "Requirement already satisfied: imageio<3.0,>=2.5 in /home/danny/.local/lib/python3.9/site-packages (from moviepy>=1.0.3->-r requirements.txt (line 5)) (2.16.1)\n",
      "Requirement already satisfied: requests<3.0,>=2.8.1 in /home/danny/.pyenv/versions/3.9.13/lib/python3.9/site-packages (from moviepy>=1.0.3->-r requirements.txt (line 5)) (2.27.1)\n",
      "Requirement already satisfied: decorator<5.0,>=4.0.2 in /home/danny/.pyenv/versions/3.9.13/lib/python3.9/site-packages (from moviepy>=1.0.3->-r requirements.txt (line 5)) (4.4.2)\n",
      "Requirement already satisfied: pillow>=8.3.2 in /home/danny/.pyenv/versions/3.9.13/lib/python3.9/site-packages (from imageio<3.0,>=2.5->moviepy>=1.0.3->-r requirements.txt (line 5)) (9.0.0)\n",
      "Requirement already satisfied: idna<4,>=2.5 in /home/danny/.pyenv/versions/3.9.13/lib/python3.9/site-packages (from requests<3.0,>=2.8.1->moviepy>=1.0.3->-r requirements.txt (line 5)) (3.3)\n",
      "Requirement already satisfied: charset-normalizer~=2.0.0 in /home/danny/.pyenv/versions/3.9.13/lib/python3.9/site-packages (from requests<3.0,>=2.8.1->moviepy>=1.0.3->-r requirements.txt (line 5)) (2.0.10)\n",
      "Requirement already satisfied: urllib3<1.27,>=1.21.1 in /home/danny/.pyenv/versions/3.9.13/lib/python3.9/site-packages (from requests<3.0,>=2.8.1->moviepy>=1.0.3->-r requirements.txt (line 5)) (1.26.8)\n",
      "Requirement already satisfied: certifi>=2017.4.17 in /home/danny/.pyenv/versions/3.9.13/lib/python3.9/site-packages (from requests<3.0,>=2.8.1->moviepy>=1.0.3->-r requirements.txt (line 5)) (2022.6.15)\n"
     ]
    }
   ],
   "source": [
    "%cd ~/Documents/Notebooks/arXiv2020-RIFE/\n",
    "!gdown --id 1i3xlKb7ax7Y70khcTcuePi6E7crO_dFc\n",
    "!pip3 install -r requirements.txt"
   ]
  },
  {
   "cell_type": "markdown",
   "metadata": {
    "id": "rirngW5uRMdg"
   },
   "source": [
    "Please upload your video to content/arXiv2020-RIFE/video.mp4, or use our demo video."
   ]
  },
  {
   "cell_type": "code",
   "execution_count": 2,
   "metadata": {
    "id": "dnLn4aHHPzN3"
   },
   "outputs": [
    {
     "name": "stdout",
     "output_type": "stream",
     "text": [
      "Wed Jul 13 03:27:36 2022       \n",
      "+-----------------------------------------------------------------------------+\n",
      "| NVIDIA-SMI 515.48.07    Driver Version: 515.48.07    CUDA Version: 11.7     |\n",
      "|-------------------------------+----------------------+----------------------+\n",
      "| GPU  Name        Persistence-M| Bus-Id        Disp.A | Volatile Uncorr. ECC |\n",
      "| Fan  Temp  Perf  Pwr:Usage/Cap|         Memory-Usage | GPU-Util  Compute M. |\n",
      "|                               |                      |               MIG M. |\n",
      "|===============================+======================+======================|\n",
      "|   0  NVIDIA GeForce ...  Off  | 00000000:07:00.0  On |                  N/A |\n",
      "|  0%   50C    P8    29W / 320W |   1810MiB / 10240MiB |     14%      Default |\n",
      "|                               |                      |                  N/A |\n",
      "+-------------------------------+----------------------+----------------------+\n",
      "                                                                               \n",
      "+-----------------------------------------------------------------------------+\n",
      "| Processes:                                                                  |\n",
      "|  GPU   GI   CI        PID   Type   Process name                  GPU Memory |\n",
      "|        ID   ID                                                   Usage      |\n",
      "|=============================================================================|\n",
      "|    0   N/A  N/A      1823      G   /usr/lib/xorg/Xorg                445MiB |\n",
      "|    0   N/A  N/A      1995      G   /usr/bin/gnome-shell              211MiB |\n",
      "|    0   N/A  N/A      4694      G   x-terminal-emulator                10MiB |\n",
      "|    0   N/A  N/A      5077      G   ...1/usr/lib/firefox/firefox     1140MiB |\n",
      "+-----------------------------------------------------------------------------+\n",
      "Loaded v3.x HD model.\n",
      "episode_2.mp4, 35628.0 frames in total, 23.976023976023978FPS to 60FPS\n",
      "Will not merge audio because using png or fps flag!\n",
      "100%|██████████████████████████████████▉| 35627/35628.0 [45:14<00:00, 13.12it/s]\n"
     ]
    }
   ],
   "source": [
    "!nvidia-smi\n",
    "!python3 inference_video.py --fps=60 --video=episode_2.mp4"
   ]
  },
  {
   "cell_type": "code",
   "execution_count": 3,
   "metadata": {},
   "outputs": [
    {
     "name": "stdout",
     "output_type": "stream",
     "text": [
      "Loaded v3.x HD model.\n",
      "episode_3.mp4, 35626.0 frames in total, 23.976023976023978FPS to 60FPS\n",
      "Will not merge audio because using png or fps flag!\n",
      "100%|██████████████████████████████████▉| 35625/35626.0 [43:25<00:00, 13.67it/s]\n"
     ]
    }
   ],
   "source": [
    "!python3 inference_video.py --fps=60 --video=episode_3.mp4"
   ]
  },
  {
   "cell_type": "code",
   "execution_count": 4,
   "metadata": {},
   "outputs": [
    {
     "name": "stdout",
     "output_type": "stream",
     "text": [
      "Loaded v3.x HD model.\n",
      "episode_4.mp4, 35629.0 frames in total, 23.976023976023978FPS to 60FPS\n",
      "Will not merge audio because using png or fps flag!\n",
      "100%|██████████████████████████████████▉| 35628/35629.0 [43:48<00:00, 13.56it/s]\n"
     ]
    }
   ],
   "source": [
    "!python3 inference_video.py --fps=60 --video=episode_4.mp4"
   ]
  },
  {
   "cell_type": "markdown",
   "metadata": {
    "id": "77KK6lxHgJhf"
   },
   "source": [
    "Our demo.mp4 is 25FPS. You can adjust the parameters for your own perference.\n",
    "For example: \n",
    "--fps=60 --exp=1 --video=mydemo.avi --png"
   ]
  },
  {
   "cell_type": "code",
   "execution_count": null,
   "metadata": {
    "cellView": "code",
    "id": "0zIBbVE3UfUD"
   },
   "outputs": [],
   "source": [
    "from IPython.display import display, Image\n",
    "import moviepy.editor as mpy\n",
    "display(mpy.ipython_display('demo_4X_100fps.mp4', height=256, max_duration=100.))"
   ]
  },
  {
   "cell_type": "code",
   "execution_count": null,
   "metadata": {
    "id": "tWkJCNgP3zXA"
   },
   "outputs": [],
   "source": [
    "!python3 inference_img.py --img demo/I0_0.png demo/I0_1.png\n",
    "ffmpeg -r 10 -f image2 -i output/img%d.png -s 448x256 -vf \"split[s0][s1];[s0]palettegen=stats_mode=single[p];[s1][p]paletteuse=new=1\" output/slomo.gif\n",
    "# Image interpolation"
   ]
  }
 ],
 "metadata": {
  "accelerator": "GPU",
  "colab": {
   "name": "Untitled0.ipynb",
   "provenance": []
  },
  "kernelspec": {
   "display_name": "Python 3 (ipykernel)",
   "language": "python",
   "name": "python3"
  },
  "language_info": {
   "codemirror_mode": {
    "name": "ipython",
    "version": 3
   },
   "file_extension": ".py",
   "mimetype": "text/x-python",
   "name": "python",
   "nbconvert_exporter": "python",
   "pygments_lexer": "ipython3",
   "version": "3.10.4"
  }
 },
 "nbformat": 4,
 "nbformat_minor": 1
}
